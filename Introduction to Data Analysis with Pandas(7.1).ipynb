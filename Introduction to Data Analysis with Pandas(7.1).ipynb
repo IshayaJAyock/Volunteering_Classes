{
 "cells": [
  {
   "cell_type": "markdown",
   "metadata": {},
   "source": [
    "# Python Libraries for Data ANALYSIS"
   ]
  },
  {
   "cell_type": "markdown",
   "metadata": {},
   "source": [
    "1. Numpy\n",
    "2. Pandas\n",
    "3. Seaborn\n",
    "4. Matplotlib"
   ]
  },
  {
   "cell_type": "markdown",
   "metadata": {},
   "source": [
    "### Importing Libraries of interest"
   ]
  },
  {
   "cell_type": "code",
   "execution_count": 1,
   "metadata": {},
   "outputs": [],
   "source": [
    "import numpy as np \n",
    "import pandas as pd\n",
    "import seaborn as snb\n",
    "import matplotlib.pyplot as plt"
   ]
  },
  {
   "cell_type": "code",
   "execution_count": 2,
   "metadata": {},
   "outputs": [],
   "source": [
    "df = pd.read_csv(\"custdata.csv\", sep ='\\t') #Importing the data"
   ]
  },
  {
   "cell_type": "markdown",
   "metadata": {},
   "source": [
    "#### Section 1"
   ]
  },
  {
   "cell_type": "code",
   "execution_count": 3,
   "metadata": {},
   "outputs": [
    {
     "data": {
      "text/plain": [
       "(1000, 11)"
      ]
     },
     "execution_count": 3,
     "metadata": {},
     "output_type": "execute_result"
    }
   ],
   "source": [
    "df.shape # checking the shape of teh data"
   ]
  },
  {
   "cell_type": "code",
   "execution_count": 4,
   "metadata": {},
   "outputs": [
    {
     "data": {
      "text/plain": [
       "Index(['custid', 'sex', 'is.employed', 'income', 'marital.stat', 'health.ins',\n",
       "       'housing.type', 'recent.move', 'num.vehicles', 'age', 'state.of.res'],\n",
       "      dtype='object')"
      ]
     },
     "execution_count": 4,
     "metadata": {},
     "output_type": "execute_result"
    }
   ],
   "source": [
    "df.columns ## checking the column names we are working with"
   ]
  },
  {
   "cell_type": "code",
   "execution_count": 5,
   "metadata": {},
   "outputs": [
    {
     "data": {
      "text/html": [
       "<div>\n",
       "<style scoped>\n",
       "    .dataframe tbody tr th:only-of-type {\n",
       "        vertical-align: middle;\n",
       "    }\n",
       "\n",
       "    .dataframe tbody tr th {\n",
       "        vertical-align: top;\n",
       "    }\n",
       "\n",
       "    .dataframe thead th {\n",
       "        text-align: right;\n",
       "    }\n",
       "</style>\n",
       "<table border=\"1\" class=\"dataframe\">\n",
       "  <thead>\n",
       "    <tr style=\"text-align: right;\">\n",
       "      <th></th>\n",
       "      <th>custid</th>\n",
       "      <th>sex</th>\n",
       "      <th>is.employed</th>\n",
       "      <th>income</th>\n",
       "      <th>marital.stat</th>\n",
       "      <th>health.ins</th>\n",
       "      <th>housing.type</th>\n",
       "      <th>recent.move</th>\n",
       "      <th>num.vehicles</th>\n",
       "      <th>age</th>\n",
       "      <th>state.of.res</th>\n",
       "    </tr>\n",
       "  </thead>\n",
       "  <tbody>\n",
       "    <tr>\n",
       "      <th>0</th>\n",
       "      <td>2068</td>\n",
       "      <td>F</td>\n",
       "      <td>NaN</td>\n",
       "      <td>11300</td>\n",
       "      <td>Married</td>\n",
       "      <td>True</td>\n",
       "      <td>Homeowner free and clear</td>\n",
       "      <td>False</td>\n",
       "      <td>2.0</td>\n",
       "      <td>49.0</td>\n",
       "      <td>Michigan</td>\n",
       "    </tr>\n",
       "    <tr>\n",
       "      <th>1</th>\n",
       "      <td>2073</td>\n",
       "      <td>F</td>\n",
       "      <td>NaN</td>\n",
       "      <td>0</td>\n",
       "      <td>Married</td>\n",
       "      <td>True</td>\n",
       "      <td>Rented</td>\n",
       "      <td>True</td>\n",
       "      <td>3.0</td>\n",
       "      <td>40.0</td>\n",
       "      <td>Florida</td>\n",
       "    </tr>\n",
       "    <tr>\n",
       "      <th>2</th>\n",
       "      <td>2848</td>\n",
       "      <td>M</td>\n",
       "      <td>True</td>\n",
       "      <td>4500</td>\n",
       "      <td>Never Married</td>\n",
       "      <td>False</td>\n",
       "      <td>Rented</td>\n",
       "      <td>True</td>\n",
       "      <td>3.0</td>\n",
       "      <td>22.0</td>\n",
       "      <td>Georgia</td>\n",
       "    </tr>\n",
       "    <tr>\n",
       "      <th>3</th>\n",
       "      <td>5641</td>\n",
       "      <td>M</td>\n",
       "      <td>True</td>\n",
       "      <td>20000</td>\n",
       "      <td>Never Married</td>\n",
       "      <td>False</td>\n",
       "      <td>Occupied with no rent</td>\n",
       "      <td>False</td>\n",
       "      <td>0.0</td>\n",
       "      <td>22.0</td>\n",
       "      <td>New Mexico</td>\n",
       "    </tr>\n",
       "    <tr>\n",
       "      <th>4</th>\n",
       "      <td>6369</td>\n",
       "      <td>F</td>\n",
       "      <td>True</td>\n",
       "      <td>12000</td>\n",
       "      <td>Never Married</td>\n",
       "      <td>True</td>\n",
       "      <td>Rented</td>\n",
       "      <td>True</td>\n",
       "      <td>1.0</td>\n",
       "      <td>31.0</td>\n",
       "      <td>Florida</td>\n",
       "    </tr>\n",
       "  </tbody>\n",
       "</table>\n",
       "</div>"
      ],
      "text/plain": [
       "   custid sex is.employed  income   marital.stat  health.ins  \\\n",
       "0    2068   F         NaN   11300        Married        True   \n",
       "1    2073   F         NaN       0        Married        True   \n",
       "2    2848   M        True    4500  Never Married       False   \n",
       "3    5641   M        True   20000  Never Married       False   \n",
       "4    6369   F        True   12000  Never Married        True   \n",
       "\n",
       "               housing.type recent.move  num.vehicles   age state.of.res  \n",
       "0  Homeowner free and clear       False           2.0  49.0     Michigan  \n",
       "1                    Rented        True           3.0  40.0      Florida  \n",
       "2                    Rented        True           3.0  22.0      Georgia  \n",
       "3     Occupied with no rent       False           0.0  22.0   New Mexico  \n",
       "4                    Rented        True           1.0  31.0      Florida  "
      ]
     },
     "execution_count": 5,
     "metadata": {},
     "output_type": "execute_result"
    }
   ],
   "source": [
    "df.head()"
   ]
  },
  {
   "cell_type": "code",
   "execution_count": 6,
   "metadata": {},
   "outputs": [],
   "source": [
    "# Changing the column names"
   ]
  },
  {
   "cell_type": "code",
   "execution_count": 7,
   "metadata": {},
   "outputs": [],
   "source": [
    "colnames =['custid', 'sex', 'employed', 'income',\n",
    "           'mstat', 'hinsurance',\n",
    "       'htype', 'recentm', \n",
    "           'nvehicles', 'age', 'stateofres']"
   ]
  },
  {
   "cell_type": "code",
   "execution_count": 8,
   "metadata": {},
   "outputs": [],
   "source": [
    "df.columns=colnames"
   ]
  },
  {
   "cell_type": "code",
   "execution_count": 9,
   "metadata": {},
   "outputs": [
    {
     "data": {
      "text/plain": [
       "Index(['custid', 'sex', 'employed', 'income', 'mstat', 'hinsurance', 'htype',\n",
       "       'recentm', 'nvehicles', 'age', 'stateofres'],\n",
       "      dtype='object')"
      ]
     },
     "execution_count": 9,
     "metadata": {},
     "output_type": "execute_result"
    }
   ],
   "source": [
    "df.columns"
   ]
  },
  {
   "cell_type": "code",
   "execution_count": 10,
   "metadata": {},
   "outputs": [
    {
     "data": {
      "text/html": [
       "<div>\n",
       "<style scoped>\n",
       "    .dataframe tbody tr th:only-of-type {\n",
       "        vertical-align: middle;\n",
       "    }\n",
       "\n",
       "    .dataframe tbody tr th {\n",
       "        vertical-align: top;\n",
       "    }\n",
       "\n",
       "    .dataframe thead th {\n",
       "        text-align: right;\n",
       "    }\n",
       "</style>\n",
       "<table border=\"1\" class=\"dataframe\">\n",
       "  <thead>\n",
       "    <tr style=\"text-align: right;\">\n",
       "      <th></th>\n",
       "      <th>custid</th>\n",
       "      <th>sex</th>\n",
       "      <th>employed</th>\n",
       "      <th>income</th>\n",
       "      <th>mstat</th>\n",
       "      <th>hinsurance</th>\n",
       "      <th>htype</th>\n",
       "      <th>recentm</th>\n",
       "      <th>nvehicles</th>\n",
       "      <th>age</th>\n",
       "      <th>stateofres</th>\n",
       "    </tr>\n",
       "  </thead>\n",
       "  <tbody>\n",
       "    <tr>\n",
       "      <th>995</th>\n",
       "      <td>1411132</td>\n",
       "      <td>F</td>\n",
       "      <td>False</td>\n",
       "      <td>46000</td>\n",
       "      <td>Divorced/Separated</td>\n",
       "      <td>True</td>\n",
       "      <td>Rented</td>\n",
       "      <td>True</td>\n",
       "      <td>1.0</td>\n",
       "      <td>56.0</td>\n",
       "      <td>Florida</td>\n",
       "    </tr>\n",
       "    <tr>\n",
       "      <th>996</th>\n",
       "      <td>1411860</td>\n",
       "      <td>F</td>\n",
       "      <td>NaN</td>\n",
       "      <td>5400</td>\n",
       "      <td>Widowed</td>\n",
       "      <td>True</td>\n",
       "      <td>NaN</td>\n",
       "      <td>NaN</td>\n",
       "      <td>NaN</td>\n",
       "      <td>89.0</td>\n",
       "      <td>Pennsylvania</td>\n",
       "    </tr>\n",
       "    <tr>\n",
       "      <th>997</th>\n",
       "      <td>1412161</td>\n",
       "      <td>M</td>\n",
       "      <td>True</td>\n",
       "      <td>38500</td>\n",
       "      <td>Married</td>\n",
       "      <td>True</td>\n",
       "      <td>Rented</td>\n",
       "      <td>True</td>\n",
       "      <td>1.0</td>\n",
       "      <td>29.0</td>\n",
       "      <td>Georgia</td>\n",
       "    </tr>\n",
       "    <tr>\n",
       "      <th>998</th>\n",
       "      <td>1412971</td>\n",
       "      <td>M</td>\n",
       "      <td>NaN</td>\n",
       "      <td>43400</td>\n",
       "      <td>Married</td>\n",
       "      <td>True</td>\n",
       "      <td>Homeowner free and clear</td>\n",
       "      <td>False</td>\n",
       "      <td>1.0</td>\n",
       "      <td>88.0</td>\n",
       "      <td>Ohio</td>\n",
       "    </tr>\n",
       "    <tr>\n",
       "      <th>999</th>\n",
       "      <td>1414286</td>\n",
       "      <td>F</td>\n",
       "      <td>False</td>\n",
       "      <td>20900</td>\n",
       "      <td>Married</td>\n",
       "      <td>False</td>\n",
       "      <td>Rented</td>\n",
       "      <td>False</td>\n",
       "      <td>2.0</td>\n",
       "      <td>36.0</td>\n",
       "      <td>New York</td>\n",
       "    </tr>\n",
       "  </tbody>\n",
       "</table>\n",
       "</div>"
      ],
      "text/plain": [
       "      custid sex employed  income               mstat  hinsurance  \\\n",
       "995  1411132   F    False   46000  Divorced/Separated        True   \n",
       "996  1411860   F      NaN    5400             Widowed        True   \n",
       "997  1412161   M     True   38500             Married        True   \n",
       "998  1412971   M      NaN   43400             Married        True   \n",
       "999  1414286   F    False   20900             Married       False   \n",
       "\n",
       "                        htype recentm  nvehicles   age    stateofres  \n",
       "995                    Rented    True        1.0  56.0       Florida  \n",
       "996                       NaN     NaN        NaN  89.0  Pennsylvania  \n",
       "997                    Rented    True        1.0  29.0       Georgia  \n",
       "998  Homeowner free and clear   False        1.0  88.0          Ohio  \n",
       "999                    Rented   False        2.0  36.0      New York  "
      ]
     },
     "execution_count": 10,
     "metadata": {},
     "output_type": "execute_result"
    }
   ],
   "source": [
    "df.tail()"
   ]
  },
  {
   "cell_type": "code",
   "execution_count": 11,
   "metadata": {},
   "outputs": [
    {
     "data": {
      "text/plain": [
       "custid          0\n",
       "sex             0\n",
       "employed      328\n",
       "income          0\n",
       "mstat           0\n",
       "hinsurance      0\n",
       "htype          56\n",
       "recentm        56\n",
       "nvehicles      56\n",
       "age             0\n",
       "stateofres      0\n",
       "dtype: int64"
      ]
     },
     "execution_count": 11,
     "metadata": {},
     "output_type": "execute_result"
    }
   ],
   "source": [
    "df.isna().sum()  # calculating the total number of missing values."
   ]
  },
  {
   "cell_type": "code",
   "execution_count": 12,
   "metadata": {},
   "outputs": [
    {
     "data": {
      "text/plain": [
       "(dtype('float64'), dtype('int64'))"
      ]
     },
     "execution_count": 12,
     "metadata": {},
     "output_type": "execute_result"
    }
   ],
   "source": [
    "df['age'].dtype, df['income'].dtype"
   ]
  },
  {
   "cell_type": "code",
   "execution_count": 13,
   "metadata": {},
   "outputs": [
    {
     "data": {
      "text/plain": [
       "custid          int64\n",
       "sex            object\n",
       "employed       object\n",
       "income          int64\n",
       "mstat          object\n",
       "hinsurance       bool\n",
       "htype          object\n",
       "recentm        object\n",
       "nvehicles     float64\n",
       "age           float64\n",
       "stateofres     object\n",
       "dtype: object"
      ]
     },
     "execution_count": 13,
     "metadata": {},
     "output_type": "execute_result"
    }
   ],
   "source": [
    "df.dtypes"
   ]
  },
  {
   "cell_type": "code",
   "execution_count": 14,
   "metadata": {},
   "outputs": [
    {
     "data": {
      "text/plain": [
       "0     True\n",
       "1     True\n",
       "2    False\n",
       "3    False\n",
       "4     True\n",
       "Name: hinsurance, dtype: bool"
      ]
     },
     "execution_count": 14,
     "metadata": {},
     "output_type": "execute_result"
    }
   ],
   "source": [
    "df.hinsurance.head()"
   ]
  },
  {
   "cell_type": "code",
   "execution_count": 15,
   "metadata": {},
   "outputs": [
    {
     "data": {
      "text/plain": [
       "(1000, 11)"
      ]
     },
     "execution_count": 15,
     "metadata": {},
     "output_type": "execute_result"
    }
   ],
   "source": [
    "df.shape # finding the total number of records"
   ]
  },
  {
   "cell_type": "code",
   "execution_count": 16,
   "metadata": {},
   "outputs": [
    {
     "data": {
      "text/plain": [
       "11000"
      ]
     },
     "execution_count": 16,
     "metadata": {},
     "output_type": "execute_result"
    }
   ],
   "source": [
    "df.size #finding the total number of element in the data frame"
   ]
  },
  {
   "cell_type": "code",
   "execution_count": 17,
   "metadata": {},
   "outputs": [
    {
     "data": {
      "text/plain": [
       "Index(['custid', 'sex', 'employed', 'income', 'mstat', 'hinsurance', 'htype',\n",
       "       'recentm', 'nvehicles', 'age', 'stateofres'],\n",
       "      dtype='object')"
      ]
     },
     "execution_count": 17,
     "metadata": {},
     "output_type": "execute_result"
    }
   ],
   "source": [
    "df.columns # displaying column names"
   ]
  },
  {
   "cell_type": "code",
   "execution_count": 18,
   "metadata": {},
   "outputs": [
    {
     "data": {
      "text/plain": [
       "custid          int64\n",
       "sex            object\n",
       "employed       object\n",
       "income          int64\n",
       "mstat          object\n",
       "hinsurance       bool\n",
       "htype          object\n",
       "recentm        object\n",
       "nvehicles     float64\n",
       "age           float64\n",
       "stateofres     object\n",
       "dtype: object"
      ]
     },
     "execution_count": 18,
     "metadata": {},
     "output_type": "execute_result"
    }
   ],
   "source": [
    "df.dtypes # To display the types of columns we have in the data frame"
   ]
  },
  {
   "cell_type": "code",
   "execution_count": 19,
   "metadata": {
    "scrolled": true
   },
   "outputs": [
    {
     "data": {
      "text/html": [
       "<div>\n",
       "<style scoped>\n",
       "    .dataframe tbody tr th:only-of-type {\n",
       "        vertical-align: middle;\n",
       "    }\n",
       "\n",
       "    .dataframe tbody tr th {\n",
       "        vertical-align: top;\n",
       "    }\n",
       "\n",
       "    .dataframe thead th {\n",
       "        text-align: right;\n",
       "    }\n",
       "</style>\n",
       "<table border=\"1\" class=\"dataframe\">\n",
       "  <thead>\n",
       "    <tr style=\"text-align: right;\">\n",
       "      <th></th>\n",
       "      <th>custid</th>\n",
       "      <th>income</th>\n",
       "      <th>nvehicles</th>\n",
       "      <th>age</th>\n",
       "    </tr>\n",
       "  </thead>\n",
       "  <tbody>\n",
       "    <tr>\n",
       "      <th>count</th>\n",
       "      <td>1.000000e+03</td>\n",
       "      <td>1000.000000</td>\n",
       "      <td>944.000000</td>\n",
       "      <td>1000.000000</td>\n",
       "    </tr>\n",
       "    <tr>\n",
       "      <th>mean</th>\n",
       "      <td>6.984997e+05</td>\n",
       "      <td>53504.771000</td>\n",
       "      <td>1.916314</td>\n",
       "      <td>51.699815</td>\n",
       "    </tr>\n",
       "    <tr>\n",
       "      <th>std</th>\n",
       "      <td>4.135083e+05</td>\n",
       "      <td>65478.065729</td>\n",
       "      <td>1.101618</td>\n",
       "      <td>18.863433</td>\n",
       "    </tr>\n",
       "    <tr>\n",
       "      <th>min</th>\n",
       "      <td>2.068000e+03</td>\n",
       "      <td>-8700.000000</td>\n",
       "      <td>0.000000</td>\n",
       "      <td>0.000000</td>\n",
       "    </tr>\n",
       "    <tr>\n",
       "      <th>25%</th>\n",
       "      <td>3.456668e+05</td>\n",
       "      <td>14600.000000</td>\n",
       "      <td>1.000000</td>\n",
       "      <td>38.000000</td>\n",
       "    </tr>\n",
       "    <tr>\n",
       "      <th>50%</th>\n",
       "      <td>6.934030e+05</td>\n",
       "      <td>35000.000000</td>\n",
       "      <td>2.000000</td>\n",
       "      <td>50.000000</td>\n",
       "    </tr>\n",
       "    <tr>\n",
       "      <th>75%</th>\n",
       "      <td>1.044606e+06</td>\n",
       "      <td>67000.000000</td>\n",
       "      <td>2.000000</td>\n",
       "      <td>64.000000</td>\n",
       "    </tr>\n",
       "    <tr>\n",
       "      <th>max</th>\n",
       "      <td>1.414286e+06</td>\n",
       "      <td>615000.000000</td>\n",
       "      <td>6.000000</td>\n",
       "      <td>146.680197</td>\n",
       "    </tr>\n",
       "  </tbody>\n",
       "</table>\n",
       "</div>"
      ],
      "text/plain": [
       "             custid         income   nvehicles          age\n",
       "count  1.000000e+03    1000.000000  944.000000  1000.000000\n",
       "mean   6.984997e+05   53504.771000    1.916314    51.699815\n",
       "std    4.135083e+05   65478.065729    1.101618    18.863433\n",
       "min    2.068000e+03   -8700.000000    0.000000     0.000000\n",
       "25%    3.456668e+05   14600.000000    1.000000    38.000000\n",
       "50%    6.934030e+05   35000.000000    2.000000    50.000000\n",
       "75%    1.044606e+06   67000.000000    2.000000    64.000000\n",
       "max    1.414286e+06  615000.000000    6.000000   146.680197"
      ]
     },
     "execution_count": 19,
     "metadata": {},
     "output_type": "execute_result"
    }
   ],
   "source": [
    "df.describe()# Summary of the numeric columns in the data frame"
   ]
  },
  {
   "cell_type": "code",
   "execution_count": 20,
   "metadata": {},
   "outputs": [
    {
     "data": {
      "text/plain": [
       "income       65478.065729\n",
       "nvehicles        1.101618\n",
       "age             18.863433\n",
       "dtype: float64"
      ]
     },
     "execution_count": 20,
     "metadata": {},
     "output_type": "execute_result"
    }
   ],
   "source": [
    "df[['income','nvehicles','age']].std() # This compute the standard deviation of the numerical columns in the data frame"
   ]
  },
  {
   "cell_type": "markdown",
   "metadata": {},
   "source": [
    "## This compute the mean values of the first 50 records in the data set"
   ]
  },
  {
   "cell_type": "markdown",
   "metadata": {},
   "source": [
    "### Method 1"
   ]
  },
  {
   "cell_type": "code",
   "execution_count": 21,
   "metadata": {},
   "outputs": [],
   "source": [
    "record50 = df.head(50)"
   ]
  },
  {
   "cell_type": "code",
   "execution_count": 22,
   "metadata": {},
   "outputs": [],
   "source": [
    "mean = record50.mean()"
   ]
  },
  {
   "cell_type": "code",
   "execution_count": 23,
   "metadata": {},
   "outputs": [
    {
     "data": {
      "text/plain": [
       "custid        32432.060000\n",
       "employed          0.968750\n",
       "income        54512.800000\n",
       "hinsurance        0.920000\n",
       "recentm           0.122449\n",
       "nvehicles         1.775510\n",
       "age              52.380000\n",
       "dtype: float64"
      ]
     },
     "execution_count": 23,
     "metadata": {},
     "output_type": "execute_result"
    }
   ],
   "source": [
    "mean"
   ]
  },
  {
   "cell_type": "markdown",
   "metadata": {},
   "source": [
    "### Method 2"
   ]
  },
  {
   "cell_type": "code",
   "execution_count": 24,
   "metadata": {},
   "outputs": [
    {
     "data": {
      "text/plain": [
       "custid        32432.060000\n",
       "employed          0.968750\n",
       "income        54512.800000\n",
       "hinsurance        0.920000\n",
       "recentm           0.122449\n",
       "nvehicles         1.775510\n",
       "age              52.380000\n",
       "dtype: float64"
      ]
     },
     "execution_count": 24,
     "metadata": {},
     "output_type": "execute_result"
    }
   ],
   "source": [
    "df.head(50).mean() "
   ]
  },
  {
   "cell_type": "markdown",
   "metadata": {},
   "source": [
    "#### Section 2"
   ]
  },
  {
   "cell_type": "markdown",
   "metadata": {},
   "source": [
    "1.Find how many values in the salary column \n",
    "\n",
    "2.Calculate the average income;\n",
    "\n",
    "3.Calculate the basic statistics for the income column;"
   ]
  },
  {
   "cell_type": "code",
   "execution_count": 25,
   "metadata": {},
   "outputs": [],
   "source": [
    "#1"
   ]
  },
  {
   "cell_type": "code",
   "execution_count": 26,
   "metadata": {},
   "outputs": [
    {
     "data": {
      "text/plain": [
       "1000"
      ]
     },
     "execution_count": 26,
     "metadata": {},
     "output_type": "execute_result"
    }
   ],
   "source": [
    "df['income'].size"
   ]
  },
  {
   "cell_type": "code",
   "execution_count": 27,
   "metadata": {},
   "outputs": [],
   "source": [
    "#2"
   ]
  },
  {
   "cell_type": "code",
   "execution_count": 28,
   "metadata": {},
   "outputs": [
    {
     "data": {
      "text/plain": [
       "53504.771"
      ]
     },
     "execution_count": 28,
     "metadata": {},
     "output_type": "execute_result"
    }
   ],
   "source": [
    "df['income'].mean()"
   ]
  },
  {
   "cell_type": "code",
   "execution_count": 29,
   "metadata": {},
   "outputs": [],
   "source": [
    "# 3"
   ]
  },
  {
   "cell_type": "code",
   "execution_count": 30,
   "metadata": {},
   "outputs": [
    {
     "data": {
      "text/plain": [
       "count      1000.000000\n",
       "mean      53504.771000\n",
       "std       65478.065729\n",
       "min       -8700.000000\n",
       "25%       14600.000000\n",
       "50%       35000.000000\n",
       "75%       67000.000000\n",
       "max      615000.000000\n",
       "Name: income, dtype: float64"
      ]
     },
     "execution_count": 30,
     "metadata": {},
     "output_type": "execute_result"
    }
   ],
   "source": [
    "df['income'].describe()"
   ]
  },
  {
   "cell_type": "markdown",
   "metadata": {},
   "source": [
    "#### Using groupby method in Data Frames "
   ]
  },
  {
   "cell_type": "code",
   "execution_count": 31,
   "metadata": {},
   "outputs": [
    {
     "data": {
      "text/html": [
       "<div>\n",
       "<style scoped>\n",
       "    .dataframe tbody tr th:only-of-type {\n",
       "        vertical-align: middle;\n",
       "    }\n",
       "\n",
       "    .dataframe tbody tr th {\n",
       "        vertical-align: top;\n",
       "    }\n",
       "\n",
       "    .dataframe thead th {\n",
       "        text-align: right;\n",
       "    }\n",
       "</style>\n",
       "<table border=\"1\" class=\"dataframe\">\n",
       "  <thead>\n",
       "    <tr style=\"text-align: right;\">\n",
       "      <th></th>\n",
       "      <th>custid</th>\n",
       "      <th>sex</th>\n",
       "      <th>employed</th>\n",
       "      <th>income</th>\n",
       "      <th>mstat</th>\n",
       "      <th>hinsurance</th>\n",
       "      <th>htype</th>\n",
       "      <th>recentm</th>\n",
       "      <th>nvehicles</th>\n",
       "      <th>age</th>\n",
       "      <th>stateofres</th>\n",
       "    </tr>\n",
       "  </thead>\n",
       "  <tbody>\n",
       "    <tr>\n",
       "      <th>0</th>\n",
       "      <td>2068</td>\n",
       "      <td>F</td>\n",
       "      <td>NaN</td>\n",
       "      <td>11300</td>\n",
       "      <td>Married</td>\n",
       "      <td>True</td>\n",
       "      <td>Homeowner free and clear</td>\n",
       "      <td>False</td>\n",
       "      <td>2.0</td>\n",
       "      <td>49.0</td>\n",
       "      <td>Michigan</td>\n",
       "    </tr>\n",
       "    <tr>\n",
       "      <th>1</th>\n",
       "      <td>2073</td>\n",
       "      <td>F</td>\n",
       "      <td>NaN</td>\n",
       "      <td>0</td>\n",
       "      <td>Married</td>\n",
       "      <td>True</td>\n",
       "      <td>Rented</td>\n",
       "      <td>True</td>\n",
       "      <td>3.0</td>\n",
       "      <td>40.0</td>\n",
       "      <td>Florida</td>\n",
       "    </tr>\n",
       "    <tr>\n",
       "      <th>2</th>\n",
       "      <td>2848</td>\n",
       "      <td>M</td>\n",
       "      <td>True</td>\n",
       "      <td>4500</td>\n",
       "      <td>Never Married</td>\n",
       "      <td>False</td>\n",
       "      <td>Rented</td>\n",
       "      <td>True</td>\n",
       "      <td>3.0</td>\n",
       "      <td>22.0</td>\n",
       "      <td>Georgia</td>\n",
       "    </tr>\n",
       "    <tr>\n",
       "      <th>3</th>\n",
       "      <td>5641</td>\n",
       "      <td>M</td>\n",
       "      <td>True</td>\n",
       "      <td>20000</td>\n",
       "      <td>Never Married</td>\n",
       "      <td>False</td>\n",
       "      <td>Occupied with no rent</td>\n",
       "      <td>False</td>\n",
       "      <td>0.0</td>\n",
       "      <td>22.0</td>\n",
       "      <td>New Mexico</td>\n",
       "    </tr>\n",
       "    <tr>\n",
       "      <th>4</th>\n",
       "      <td>6369</td>\n",
       "      <td>F</td>\n",
       "      <td>True</td>\n",
       "      <td>12000</td>\n",
       "      <td>Never Married</td>\n",
       "      <td>True</td>\n",
       "      <td>Rented</td>\n",
       "      <td>True</td>\n",
       "      <td>1.0</td>\n",
       "      <td>31.0</td>\n",
       "      <td>Florida</td>\n",
       "    </tr>\n",
       "  </tbody>\n",
       "</table>\n",
       "</div>"
      ],
      "text/plain": [
       "   custid sex employed  income          mstat  hinsurance  \\\n",
       "0    2068   F      NaN   11300        Married        True   \n",
       "1    2073   F      NaN       0        Married        True   \n",
       "2    2848   M     True    4500  Never Married       False   \n",
       "3    5641   M     True   20000  Never Married       False   \n",
       "4    6369   F     True   12000  Never Married        True   \n",
       "\n",
       "                      htype recentm  nvehicles   age  stateofres  \n",
       "0  Homeowner free and clear   False        2.0  49.0    Michigan  \n",
       "1                    Rented    True        3.0  40.0     Florida  \n",
       "2                    Rented    True        3.0  22.0     Georgia  \n",
       "3     Occupied with no rent   False        0.0  22.0  New Mexico  \n",
       "4                    Rented    True        1.0  31.0     Florida  "
      ]
     },
     "execution_count": 31,
     "metadata": {},
     "output_type": "execute_result"
    }
   ],
   "source": [
    "df.head()"
   ]
  },
  {
   "cell_type": "code",
   "execution_count": 32,
   "metadata": {},
   "outputs": [
    {
     "data": {
      "text/html": [
       "<div>\n",
       "<style scoped>\n",
       "    .dataframe tbody tr th:only-of-type {\n",
       "        vertical-align: middle;\n",
       "    }\n",
       "\n",
       "    .dataframe tbody tr th {\n",
       "        vertical-align: top;\n",
       "    }\n",
       "\n",
       "    .dataframe thead tr th {\n",
       "        text-align: left;\n",
       "    }\n",
       "\n",
       "    .dataframe thead tr:last-of-type th {\n",
       "        text-align: right;\n",
       "    }\n",
       "</style>\n",
       "<table border=\"1\" class=\"dataframe\">\n",
       "  <thead>\n",
       "    <tr>\n",
       "      <th></th>\n",
       "      <th colspan=\"3\" halign=\"left\">custid</th>\n",
       "      <th colspan=\"3\" halign=\"left\">income</th>\n",
       "      <th colspan=\"3\" halign=\"left\">hinsurance</th>\n",
       "      <th colspan=\"3\" halign=\"left\">nvehicles</th>\n",
       "      <th colspan=\"3\" halign=\"left\">age</th>\n",
       "    </tr>\n",
       "    <tr>\n",
       "      <th></th>\n",
       "      <th>mean</th>\n",
       "      <th>std</th>\n",
       "      <th>var</th>\n",
       "      <th>mean</th>\n",
       "      <th>std</th>\n",
       "      <th>var</th>\n",
       "      <th>mean</th>\n",
       "      <th>std</th>\n",
       "      <th>var</th>\n",
       "      <th>mean</th>\n",
       "      <th>std</th>\n",
       "      <th>var</th>\n",
       "      <th>mean</th>\n",
       "      <th>std</th>\n",
       "      <th>var</th>\n",
       "    </tr>\n",
       "    <tr>\n",
       "      <th>stateofres</th>\n",
       "      <th></th>\n",
       "      <th></th>\n",
       "      <th></th>\n",
       "      <th></th>\n",
       "      <th></th>\n",
       "      <th></th>\n",
       "      <th></th>\n",
       "      <th></th>\n",
       "      <th></th>\n",
       "      <th></th>\n",
       "      <th></th>\n",
       "      <th></th>\n",
       "      <th></th>\n",
       "      <th></th>\n",
       "      <th></th>\n",
       "    </tr>\n",
       "  </thead>\n",
       "  <tbody>\n",
       "    <tr>\n",
       "      <th>Alabama</th>\n",
       "      <td>830399.000000</td>\n",
       "      <td>295722.146454</td>\n",
       "      <td>8.745159e+10</td>\n",
       "      <td>23018.181818</td>\n",
       "      <td>16687.529367</td>\n",
       "      <td>2.784736e+08</td>\n",
       "      <td>0.818182</td>\n",
       "      <td>0.404520</td>\n",
       "      <td>0.163636</td>\n",
       "      <td>2.100000</td>\n",
       "      <td>1.197219</td>\n",
       "      <td>1.433333</td>\n",
       "      <td>46.181818</td>\n",
       "      <td>17.491816</td>\n",
       "      <td>305.963636</td>\n",
       "    </tr>\n",
       "    <tr>\n",
       "      <th>Alaska</th>\n",
       "      <td>250652.000000</td>\n",
       "      <td>186454.431098</td>\n",
       "      <td>3.476525e+10</td>\n",
       "      <td>54690.000000</td>\n",
       "      <td>38978.972536</td>\n",
       "      <td>1.519360e+09</td>\n",
       "      <td>1.000000</td>\n",
       "      <td>0.000000</td>\n",
       "      <td>0.000000</td>\n",
       "      <td>2.333333</td>\n",
       "      <td>1.527525</td>\n",
       "      <td>2.333333</td>\n",
       "      <td>62.666667</td>\n",
       "      <td>19.553346</td>\n",
       "      <td>382.333333</td>\n",
       "    </tr>\n",
       "    <tr>\n",
       "      <th>Arizona</th>\n",
       "      <td>934263.777778</td>\n",
       "      <td>388386.056862</td>\n",
       "      <td>1.508437e+11</td>\n",
       "      <td>49455.555556</td>\n",
       "      <td>52356.616371</td>\n",
       "      <td>2.741215e+09</td>\n",
       "      <td>1.000000</td>\n",
       "      <td>0.000000</td>\n",
       "      <td>0.000000</td>\n",
       "      <td>1.888889</td>\n",
       "      <td>1.269296</td>\n",
       "      <td>1.611111</td>\n",
       "      <td>52.777778</td>\n",
       "      <td>12.901335</td>\n",
       "      <td>166.444444</td>\n",
       "    </tr>\n",
       "    <tr>\n",
       "      <th>Arkansas</th>\n",
       "      <td>568287.285714</td>\n",
       "      <td>448048.479286</td>\n",
       "      <td>2.007474e+11</td>\n",
       "      <td>74957.142857</td>\n",
       "      <td>54579.234670</td>\n",
       "      <td>2.978893e+09</td>\n",
       "      <td>1.000000</td>\n",
       "      <td>0.000000</td>\n",
       "      <td>0.000000</td>\n",
       "      <td>1.833333</td>\n",
       "      <td>0.752773</td>\n",
       "      <td>0.566667</td>\n",
       "      <td>58.977870</td>\n",
       "      <td>33.817087</td>\n",
       "      <td>1143.595347</td>\n",
       "    </tr>\n",
       "    <tr>\n",
       "      <th>California</th>\n",
       "      <td>715103.590000</td>\n",
       "      <td>419440.701649</td>\n",
       "      <td>1.759305e+11</td>\n",
       "      <td>53263.900000</td>\n",
       "      <td>65090.182861</td>\n",
       "      <td>4.236732e+09</td>\n",
       "      <td>0.800000</td>\n",
       "      <td>0.402015</td>\n",
       "      <td>0.161616</td>\n",
       "      <td>2.098901</td>\n",
       "      <td>1.106094</td>\n",
       "      <td>1.223443</td>\n",
       "      <td>48.660000</td>\n",
       "      <td>18.360157</td>\n",
       "      <td>337.095354</td>\n",
       "    </tr>\n",
       "  </tbody>\n",
       "</table>\n",
       "</div>"
      ],
      "text/plain": [
       "                   custid                                     income  \\\n",
       "                     mean            std           var          mean   \n",
       "stateofres                                                             \n",
       "Alabama     830399.000000  295722.146454  8.745159e+10  23018.181818   \n",
       "Alaska      250652.000000  186454.431098  3.476525e+10  54690.000000   \n",
       "Arizona     934263.777778  388386.056862  1.508437e+11  49455.555556   \n",
       "Arkansas    568287.285714  448048.479286  2.007474e+11  74957.142857   \n",
       "California  715103.590000  419440.701649  1.759305e+11  53263.900000   \n",
       "\n",
       "                                       hinsurance                      \\\n",
       "                     std           var       mean       std       var   \n",
       "stateofres                                                              \n",
       "Alabama     16687.529367  2.784736e+08   0.818182  0.404520  0.163636   \n",
       "Alaska      38978.972536  1.519360e+09   1.000000  0.000000  0.000000   \n",
       "Arizona     52356.616371  2.741215e+09   1.000000  0.000000  0.000000   \n",
       "Arkansas    54579.234670  2.978893e+09   1.000000  0.000000  0.000000   \n",
       "California  65090.182861  4.236732e+09   0.800000  0.402015  0.161616   \n",
       "\n",
       "           nvehicles                            age                          \n",
       "                mean       std       var       mean        std          var  \n",
       "stateofres                                                                   \n",
       "Alabama     2.100000  1.197219  1.433333  46.181818  17.491816   305.963636  \n",
       "Alaska      2.333333  1.527525  2.333333  62.666667  19.553346   382.333333  \n",
       "Arizona     1.888889  1.269296  1.611111  52.777778  12.901335   166.444444  \n",
       "Arkansas    1.833333  0.752773  0.566667  58.977870  33.817087  1143.595347  \n",
       "California  2.098901  1.106094  1.223443  48.660000  18.360157   337.095354  "
      ]
     },
     "execution_count": 32,
     "metadata": {},
     "output_type": "execute_result"
    }
   ],
   "source": [
    "df.groupby(['stateofres']).agg(['mean','std','var']).head()"
   ]
  },
  {
   "cell_type": "code",
   "execution_count": 33,
   "metadata": {},
   "outputs": [
    {
     "data": {
      "text/html": [
       "<div>\n",
       "<style scoped>\n",
       "    .dataframe tbody tr th:only-of-type {\n",
       "        vertical-align: middle;\n",
       "    }\n",
       "\n",
       "    .dataframe tbody tr th {\n",
       "        vertical-align: top;\n",
       "    }\n",
       "\n",
       "    .dataframe thead th {\n",
       "        text-align: right;\n",
       "    }\n",
       "</style>\n",
       "<table border=\"1\" class=\"dataframe\">\n",
       "  <thead>\n",
       "    <tr style=\"text-align: right;\">\n",
       "      <th></th>\n",
       "      <th>income</th>\n",
       "    </tr>\n",
       "    <tr>\n",
       "      <th>mstat</th>\n",
       "      <th></th>\n",
       "    </tr>\n",
       "  </thead>\n",
       "  <tbody>\n",
       "    <tr>\n",
       "      <th>Divorced/Separated</th>\n",
       "      <td>47756.387097</td>\n",
       "    </tr>\n",
       "    <tr>\n",
       "      <th>Married</th>\n",
       "      <td>63166.703488</td>\n",
       "    </tr>\n",
       "    <tr>\n",
       "      <th>Never Married</th>\n",
       "      <td>38753.480687</td>\n",
       "    </tr>\n",
       "    <tr>\n",
       "      <th>Widowed</th>\n",
       "      <td>46655.739583</td>\n",
       "    </tr>\n",
       "  </tbody>\n",
       "</table>\n",
       "</div>"
      ],
      "text/plain": [
       "                          income\n",
       "mstat                           \n",
       "Divorced/Separated  47756.387097\n",
       "Married             63166.703488\n",
       "Never Married       38753.480687\n",
       "Widowed             46655.739583"
      ]
     },
     "execution_count": 33,
     "metadata": {},
     "output_type": "execute_result"
    }
   ],
   "source": [
    "#Calculate mean income for each marital status:\n",
    "df.groupby('mstat')[['income']].mean()"
   ]
  },
  {
   "cell_type": "code",
   "execution_count": 34,
   "metadata": {},
   "outputs": [
    {
     "data": {
      "text/html": [
       "<div>\n",
       "<style scoped>\n",
       "    .dataframe tbody tr th:only-of-type {\n",
       "        vertical-align: middle;\n",
       "    }\n",
       "\n",
       "    .dataframe tbody tr th {\n",
       "        vertical-align: top;\n",
       "    }\n",
       "\n",
       "    .dataframe thead th {\n",
       "        text-align: right;\n",
       "    }\n",
       "</style>\n",
       "<table border=\"1\" class=\"dataframe\">\n",
       "  <thead>\n",
       "    <tr style=\"text-align: right;\">\n",
       "      <th></th>\n",
       "      <th>custid</th>\n",
       "      <th>sex</th>\n",
       "      <th>employed</th>\n",
       "      <th>income</th>\n",
       "      <th>mstat</th>\n",
       "      <th>hinsurance</th>\n",
       "      <th>htype</th>\n",
       "      <th>recentm</th>\n",
       "      <th>nvehicles</th>\n",
       "      <th>age</th>\n",
       "      <th>stateofres</th>\n",
       "    </tr>\n",
       "  </thead>\n",
       "  <tbody>\n",
       "    <tr>\n",
       "      <th>5</th>\n",
       "      <td>8322</td>\n",
       "      <td>F</td>\n",
       "      <td>True</td>\n",
       "      <td>180000</td>\n",
       "      <td>Never Married</td>\n",
       "      <td>True</td>\n",
       "      <td>Homeowner with mortgage/loan</td>\n",
       "      <td>False</td>\n",
       "      <td>1.0</td>\n",
       "      <td>40.0</td>\n",
       "      <td>New York</td>\n",
       "    </tr>\n",
       "    <tr>\n",
       "      <th>6</th>\n",
       "      <td>8521</td>\n",
       "      <td>M</td>\n",
       "      <td>True</td>\n",
       "      <td>120000</td>\n",
       "      <td>Never Married</td>\n",
       "      <td>True</td>\n",
       "      <td>Homeowner free and clear</td>\n",
       "      <td>True</td>\n",
       "      <td>1.0</td>\n",
       "      <td>39.0</td>\n",
       "      <td>Idaho</td>\n",
       "    </tr>\n",
       "    <tr>\n",
       "      <th>11</th>\n",
       "      <td>17134</td>\n",
       "      <td>M</td>\n",
       "      <td>True</td>\n",
       "      <td>220000</td>\n",
       "      <td>Married</td>\n",
       "      <td>True</td>\n",
       "      <td>Homeowner free and clear</td>\n",
       "      <td>True</td>\n",
       "      <td>2.0</td>\n",
       "      <td>33.0</td>\n",
       "      <td>Indiana</td>\n",
       "    </tr>\n",
       "    <tr>\n",
       "      <th>14</th>\n",
       "      <td>20383</td>\n",
       "      <td>M</td>\n",
       "      <td>True</td>\n",
       "      <td>170000</td>\n",
       "      <td>Never Married</td>\n",
       "      <td>True</td>\n",
       "      <td>Homeowner with mortgage/loan</td>\n",
       "      <td>True</td>\n",
       "      <td>1.0</td>\n",
       "      <td>35.0</td>\n",
       "      <td>South Carolina</td>\n",
       "    </tr>\n",
       "    <tr>\n",
       "      <th>24</th>\n",
       "      <td>31710</td>\n",
       "      <td>F</td>\n",
       "      <td>True</td>\n",
       "      <td>397000</td>\n",
       "      <td>Widowed</td>\n",
       "      <td>True</td>\n",
       "      <td>Homeowner with mortgage/loan</td>\n",
       "      <td>False</td>\n",
       "      <td>2.0</td>\n",
       "      <td>55.0</td>\n",
       "      <td>Missouri</td>\n",
       "    </tr>\n",
       "  </tbody>\n",
       "</table>\n",
       "</div>"
      ],
      "text/plain": [
       "    custid sex employed  income          mstat  hinsurance  \\\n",
       "5     8322   F     True  180000  Never Married        True   \n",
       "6     8521   M     True  120000  Never Married        True   \n",
       "11   17134   M     True  220000        Married        True   \n",
       "14   20383   M     True  170000  Never Married        True   \n",
       "24   31710   F     True  397000        Widowed        True   \n",
       "\n",
       "                           htype recentm  nvehicles   age      stateofres  \n",
       "5   Homeowner with mortgage/loan   False        1.0  40.0        New York  \n",
       "6       Homeowner free and clear    True        1.0  39.0           Idaho  \n",
       "11      Homeowner free and clear    True        2.0  33.0         Indiana  \n",
       "14  Homeowner with mortgage/loan    True        1.0  35.0  South Carolina  \n",
       "24  Homeowner with mortgage/loan   False        2.0  55.0        Missouri  "
      ]
     },
     "execution_count": 34,
     "metadata": {},
     "output_type": "execute_result"
    }
   ],
   "source": [
    "#Displays customers whose income is grater than 100000\n",
    "df_sub = df[df['income'] > 100000]\n",
    "df_sub.head()"
   ]
  },
  {
   "cell_type": "code",
   "execution_count": 35,
   "metadata": {},
   "outputs": [],
   "source": [
    "#Displays first 10 female customers whose income is grater than 100000"
   ]
  },
  {
   "cell_type": "code",
   "execution_count": 36,
   "metadata": {},
   "outputs": [],
   "source": [
    "#income_customers_greater_1000000\n",
    "income = df[df['income'] > 100000]"
   ]
  },
  {
   "cell_type": "code",
   "execution_count": 37,
   "metadata": {},
   "outputs": [],
   "source": [
    "income = income[income['sex'] == 'F']"
   ]
  },
  {
   "cell_type": "code",
   "execution_count": 38,
   "metadata": {
    "scrolled": true
   },
   "outputs": [
    {
     "data": {
      "text/html": [
       "<div>\n",
       "<style scoped>\n",
       "    .dataframe tbody tr th:only-of-type {\n",
       "        vertical-align: middle;\n",
       "    }\n",
       "\n",
       "    .dataframe tbody tr th {\n",
       "        vertical-align: top;\n",
       "    }\n",
       "\n",
       "    .dataframe thead th {\n",
       "        text-align: right;\n",
       "    }\n",
       "</style>\n",
       "<table border=\"1\" class=\"dataframe\">\n",
       "  <thead>\n",
       "    <tr style=\"text-align: right;\">\n",
       "      <th></th>\n",
       "      <th>custid</th>\n",
       "      <th>sex</th>\n",
       "      <th>employed</th>\n",
       "      <th>income</th>\n",
       "      <th>mstat</th>\n",
       "      <th>hinsurance</th>\n",
       "      <th>htype</th>\n",
       "      <th>recentm</th>\n",
       "      <th>nvehicles</th>\n",
       "      <th>age</th>\n",
       "      <th>stateofres</th>\n",
       "    </tr>\n",
       "  </thead>\n",
       "  <tbody>\n",
       "    <tr>\n",
       "      <th>5</th>\n",
       "      <td>8322</td>\n",
       "      <td>F</td>\n",
       "      <td>True</td>\n",
       "      <td>180000</td>\n",
       "      <td>Never Married</td>\n",
       "      <td>True</td>\n",
       "      <td>Homeowner with mortgage/loan</td>\n",
       "      <td>False</td>\n",
       "      <td>1.0</td>\n",
       "      <td>40.0</td>\n",
       "      <td>New York</td>\n",
       "    </tr>\n",
       "    <tr>\n",
       "      <th>24</th>\n",
       "      <td>31710</td>\n",
       "      <td>F</td>\n",
       "      <td>True</td>\n",
       "      <td>397000</td>\n",
       "      <td>Widowed</td>\n",
       "      <td>True</td>\n",
       "      <td>Homeowner with mortgage/loan</td>\n",
       "      <td>False</td>\n",
       "      <td>2.0</td>\n",
       "      <td>55.0</td>\n",
       "      <td>Missouri</td>\n",
       "    </tr>\n",
       "    <tr>\n",
       "      <th>43</th>\n",
       "      <td>52436</td>\n",
       "      <td>F</td>\n",
       "      <td>True</td>\n",
       "      <td>139000</td>\n",
       "      <td>Married</td>\n",
       "      <td>True</td>\n",
       "      <td>Homeowner with mortgage/loan</td>\n",
       "      <td>False</td>\n",
       "      <td>2.0</td>\n",
       "      <td>46.0</td>\n",
       "      <td>Pennsylvania</td>\n",
       "    </tr>\n",
       "    <tr>\n",
       "      <th>52</th>\n",
       "      <td>65004</td>\n",
       "      <td>F</td>\n",
       "      <td>True</td>\n",
       "      <td>150000</td>\n",
       "      <td>Never Married</td>\n",
       "      <td>True</td>\n",
       "      <td>Homeowner with mortgage/loan</td>\n",
       "      <td>False</td>\n",
       "      <td>4.0</td>\n",
       "      <td>49.0</td>\n",
       "      <td>Florida</td>\n",
       "    </tr>\n",
       "    <tr>\n",
       "      <th>82</th>\n",
       "      <td>103389</td>\n",
       "      <td>F</td>\n",
       "      <td>True</td>\n",
       "      <td>130000</td>\n",
       "      <td>Never Married</td>\n",
       "      <td>True</td>\n",
       "      <td>Rented</td>\n",
       "      <td>True</td>\n",
       "      <td>1.0</td>\n",
       "      <td>41.0</td>\n",
       "      <td>Minnesota</td>\n",
       "    </tr>\n",
       "  </tbody>\n",
       "</table>\n",
       "</div>"
      ],
      "text/plain": [
       "    custid sex employed  income          mstat  hinsurance  \\\n",
       "5     8322   F     True  180000  Never Married        True   \n",
       "24   31710   F     True  397000        Widowed        True   \n",
       "43   52436   F     True  139000        Married        True   \n",
       "52   65004   F     True  150000  Never Married        True   \n",
       "82  103389   F     True  130000  Never Married        True   \n",
       "\n",
       "                           htype recentm  nvehicles   age    stateofres  \n",
       "5   Homeowner with mortgage/loan   False        1.0  40.0      New York  \n",
       "24  Homeowner with mortgage/loan   False        2.0  55.0      Missouri  \n",
       "43  Homeowner with mortgage/loan   False        2.0  46.0  Pennsylvania  \n",
       "52  Homeowner with mortgage/loan   False        4.0  49.0       Florida  \n",
       "82                        Rented    True        1.0  41.0     Minnesota  "
      ]
     },
     "execution_count": 38,
     "metadata": {},
     "output_type": "execute_result"
    }
   ],
   "source": [
    "income.head()"
   ]
  },
  {
   "cell_type": "code",
   "execution_count": 39,
   "metadata": {},
   "outputs": [
    {
     "data": {
      "text/html": [
       "<div>\n",
       "<style scoped>\n",
       "    .dataframe tbody tr th:only-of-type {\n",
       "        vertical-align: middle;\n",
       "    }\n",
       "\n",
       "    .dataframe tbody tr th {\n",
       "        vertical-align: top;\n",
       "    }\n",
       "\n",
       "    .dataframe thead th {\n",
       "        text-align: right;\n",
       "    }\n",
       "</style>\n",
       "<table border=\"1\" class=\"dataframe\">\n",
       "  <thead>\n",
       "    <tr style=\"text-align: right;\">\n",
       "      <th></th>\n",
       "      <th>custid</th>\n",
       "      <th>sex</th>\n",
       "      <th>employed</th>\n",
       "      <th>income</th>\n",
       "      <th>mstat</th>\n",
       "      <th>hinsurance</th>\n",
       "      <th>htype</th>\n",
       "      <th>recentm</th>\n",
       "      <th>nvehicles</th>\n",
       "      <th>age</th>\n",
       "      <th>stateofres</th>\n",
       "    </tr>\n",
       "  </thead>\n",
       "  <tbody>\n",
       "    <tr>\n",
       "      <th>10</th>\n",
       "      <td>16551</td>\n",
       "      <td>F</td>\n",
       "      <td>NaN</td>\n",
       "      <td>7000</td>\n",
       "      <td>Married</td>\n",
       "      <td>True</td>\n",
       "      <td>Homeowner with mortgage/loan</td>\n",
       "      <td>False</td>\n",
       "      <td>2.0</td>\n",
       "      <td>46.0</td>\n",
       "      <td>Georgia</td>\n",
       "    </tr>\n",
       "    <tr>\n",
       "      <th>11</th>\n",
       "      <td>17134</td>\n",
       "      <td>M</td>\n",
       "      <td>True</td>\n",
       "      <td>220000</td>\n",
       "      <td>Married</td>\n",
       "      <td>True</td>\n",
       "      <td>Homeowner free and clear</td>\n",
       "      <td>True</td>\n",
       "      <td>2.0</td>\n",
       "      <td>33.0</td>\n",
       "      <td>Indiana</td>\n",
       "    </tr>\n",
       "    <tr>\n",
       "      <th>12</th>\n",
       "      <td>17946</td>\n",
       "      <td>F</td>\n",
       "      <td>True</td>\n",
       "      <td>85000</td>\n",
       "      <td>Divorced/Separated</td>\n",
       "      <td>True</td>\n",
       "      <td>Rented</td>\n",
       "      <td>False</td>\n",
       "      <td>1.0</td>\n",
       "      <td>51.0</td>\n",
       "      <td>New Hampshire</td>\n",
       "    </tr>\n",
       "    <tr>\n",
       "      <th>13</th>\n",
       "      <td>18487</td>\n",
       "      <td>F</td>\n",
       "      <td>True</td>\n",
       "      <td>89200</td>\n",
       "      <td>Divorced/Separated</td>\n",
       "      <td>True</td>\n",
       "      <td>Homeowner with mortgage/loan</td>\n",
       "      <td>False</td>\n",
       "      <td>1.0</td>\n",
       "      <td>63.0</td>\n",
       "      <td>Georgia</td>\n",
       "    </tr>\n",
       "    <tr>\n",
       "      <th>14</th>\n",
       "      <td>20383</td>\n",
       "      <td>M</td>\n",
       "      <td>True</td>\n",
       "      <td>170000</td>\n",
       "      <td>Never Married</td>\n",
       "      <td>True</td>\n",
       "      <td>Homeowner with mortgage/loan</td>\n",
       "      <td>True</td>\n",
       "      <td>1.0</td>\n",
       "      <td>35.0</td>\n",
       "      <td>South Carolina</td>\n",
       "    </tr>\n",
       "    <tr>\n",
       "      <th>15</th>\n",
       "      <td>22295</td>\n",
       "      <td>M</td>\n",
       "      <td>True</td>\n",
       "      <td>14400</td>\n",
       "      <td>Married</td>\n",
       "      <td>True</td>\n",
       "      <td>Homeowner free and clear</td>\n",
       "      <td>False</td>\n",
       "      <td>3.0</td>\n",
       "      <td>54.0</td>\n",
       "      <td>Pennsylvania</td>\n",
       "    </tr>\n",
       "  </tbody>\n",
       "</table>\n",
       "</div>"
      ],
      "text/plain": [
       "    custid sex employed  income               mstat  hinsurance  \\\n",
       "10   16551   F      NaN    7000             Married        True   \n",
       "11   17134   M     True  220000             Married        True   \n",
       "12   17946   F     True   85000  Divorced/Separated        True   \n",
       "13   18487   F     True   89200  Divorced/Separated        True   \n",
       "14   20383   M     True  170000       Never Married        True   \n",
       "15   22295   M     True   14400             Married        True   \n",
       "\n",
       "                           htype recentm  nvehicles   age      stateofres  \n",
       "10  Homeowner with mortgage/loan   False        2.0  46.0         Georgia  \n",
       "11      Homeowner free and clear    True        2.0  33.0         Indiana  \n",
       "12                        Rented   False        1.0  51.0   New Hampshire  \n",
       "13  Homeowner with mortgage/loan   False        1.0  63.0         Georgia  \n",
       "14  Homeowner with mortgage/loan    True        1.0  35.0  South Carolina  \n",
       "15      Homeowner free and clear   False        3.0  54.0    Pennsylvania  "
      ]
     },
     "execution_count": 39,
     "metadata": {},
     "output_type": "execute_result"
    }
   ],
   "source": [
    "df[10:16]"
   ]
  },
  {
   "cell_type": "code",
   "execution_count": 40,
   "metadata": {},
   "outputs": [
    {
     "data": {
      "text/html": [
       "<div>\n",
       "<style scoped>\n",
       "    .dataframe tbody tr th:only-of-type {\n",
       "        vertical-align: middle;\n",
       "    }\n",
       "\n",
       "    .dataframe tbody tr th {\n",
       "        vertical-align: top;\n",
       "    }\n",
       "\n",
       "    .dataframe thead th {\n",
       "        text-align: right;\n",
       "    }\n",
       "</style>\n",
       "<table border=\"1\" class=\"dataframe\">\n",
       "  <thead>\n",
       "    <tr style=\"text-align: right;\">\n",
       "      <th></th>\n",
       "      <th>income</th>\n",
       "      <th>sex</th>\n",
       "      <th>mstat</th>\n",
       "    </tr>\n",
       "  </thead>\n",
       "  <tbody>\n",
       "    <tr>\n",
       "      <th>10</th>\n",
       "      <td>7000</td>\n",
       "      <td>F</td>\n",
       "      <td>Married</td>\n",
       "    </tr>\n",
       "    <tr>\n",
       "      <th>11</th>\n",
       "      <td>220000</td>\n",
       "      <td>M</td>\n",
       "      <td>Married</td>\n",
       "    </tr>\n",
       "    <tr>\n",
       "      <th>12</th>\n",
       "      <td>85000</td>\n",
       "      <td>F</td>\n",
       "      <td>Divorced/Separated</td>\n",
       "    </tr>\n",
       "    <tr>\n",
       "      <th>13</th>\n",
       "      <td>89200</td>\n",
       "      <td>F</td>\n",
       "      <td>Divorced/Separated</td>\n",
       "    </tr>\n",
       "    <tr>\n",
       "      <th>14</th>\n",
       "      <td>170000</td>\n",
       "      <td>M</td>\n",
       "      <td>Never Married</td>\n",
       "    </tr>\n",
       "    <tr>\n",
       "      <th>15</th>\n",
       "      <td>14400</td>\n",
       "      <td>M</td>\n",
       "      <td>Married</td>\n",
       "    </tr>\n",
       "    <tr>\n",
       "      <th>16</th>\n",
       "      <td>41000</td>\n",
       "      <td>M</td>\n",
       "      <td>Divorced/Separated</td>\n",
       "    </tr>\n",
       "  </tbody>\n",
       "</table>\n",
       "</div>"
      ],
      "text/plain": [
       "    income sex               mstat\n",
       "10    7000   F             Married\n",
       "11  220000   M             Married\n",
       "12   85000   F  Divorced/Separated\n",
       "13   89200   F  Divorced/Separated\n",
       "14  170000   M       Never Married\n",
       "15   14400   M             Married\n",
       "16   41000   M  Divorced/Separated"
      ]
     },
     "execution_count": 40,
     "metadata": {},
     "output_type": "execute_result"
    }
   ],
   "source": [
    "#Select rows by their labels:\n",
    "df.loc[10:16,['income','sex','mstat']]"
   ]
  },
  {
   "cell_type": "code",
   "execution_count": 41,
   "metadata": {},
   "outputs": [
    {
     "data": {
      "text/html": [
       "<div>\n",
       "<style scoped>\n",
       "    .dataframe tbody tr th:only-of-type {\n",
       "        vertical-align: middle;\n",
       "    }\n",
       "\n",
       "    .dataframe tbody tr th {\n",
       "        vertical-align: top;\n",
       "    }\n",
       "\n",
       "    .dataframe thead th {\n",
       "        text-align: right;\n",
       "    }\n",
       "</style>\n",
       "<table border=\"1\" class=\"dataframe\">\n",
       "  <thead>\n",
       "    <tr style=\"text-align: right;\">\n",
       "      <th></th>\n",
       "      <th>sex</th>\n",
       "      <th>income</th>\n",
       "      <th>mstat</th>\n",
       "      <th>hinsurance</th>\n",
       "    </tr>\n",
       "  </thead>\n",
       "  <tbody>\n",
       "    <tr>\n",
       "      <th>10</th>\n",
       "      <td>F</td>\n",
       "      <td>7000</td>\n",
       "      <td>Married</td>\n",
       "      <td>True</td>\n",
       "    </tr>\n",
       "    <tr>\n",
       "      <th>11</th>\n",
       "      <td>M</td>\n",
       "      <td>220000</td>\n",
       "      <td>Married</td>\n",
       "      <td>True</td>\n",
       "    </tr>\n",
       "    <tr>\n",
       "      <th>12</th>\n",
       "      <td>F</td>\n",
       "      <td>85000</td>\n",
       "      <td>Divorced/Separated</td>\n",
       "      <td>True</td>\n",
       "    </tr>\n",
       "    <tr>\n",
       "      <th>13</th>\n",
       "      <td>F</td>\n",
       "      <td>89200</td>\n",
       "      <td>Divorced/Separated</td>\n",
       "      <td>True</td>\n",
       "    </tr>\n",
       "    <tr>\n",
       "      <th>14</th>\n",
       "      <td>M</td>\n",
       "      <td>170000</td>\n",
       "      <td>Never Married</td>\n",
       "      <td>True</td>\n",
       "    </tr>\n",
       "    <tr>\n",
       "      <th>15</th>\n",
       "      <td>M</td>\n",
       "      <td>14400</td>\n",
       "      <td>Married</td>\n",
       "      <td>True</td>\n",
       "    </tr>\n",
       "    <tr>\n",
       "      <th>16</th>\n",
       "      <td>M</td>\n",
       "      <td>41000</td>\n",
       "      <td>Divorced/Separated</td>\n",
       "      <td>True</td>\n",
       "    </tr>\n",
       "    <tr>\n",
       "      <th>17</th>\n",
       "      <td>M</td>\n",
       "      <td>30000</td>\n",
       "      <td>Married</td>\n",
       "      <td>True</td>\n",
       "    </tr>\n",
       "    <tr>\n",
       "      <th>18</th>\n",
       "      <td>M</td>\n",
       "      <td>80000</td>\n",
       "      <td>Never Married</td>\n",
       "      <td>True</td>\n",
       "    </tr>\n",
       "    <tr>\n",
       "      <th>19</th>\n",
       "      <td>M</td>\n",
       "      <td>18800</td>\n",
       "      <td>Married</td>\n",
       "      <td>True</td>\n",
       "    </tr>\n",
       "  </tbody>\n",
       "</table>\n",
       "</div>"
      ],
      "text/plain": [
       "   sex  income               mstat  hinsurance\n",
       "10   F    7000             Married        True\n",
       "11   M  220000             Married        True\n",
       "12   F   85000  Divorced/Separated        True\n",
       "13   F   89200  Divorced/Separated        True\n",
       "14   M  170000       Never Married        True\n",
       "15   M   14400             Married        True\n",
       "16   M   41000  Divorced/Separated        True\n",
       "17   M   30000             Married        True\n",
       "18   M   80000       Never Married        True\n",
       "19   M   18800             Married        True"
      ]
     },
     "execution_count": 41,
     "metadata": {},
     "output_type": "execute_result"
    }
   ],
   "source": [
    "#Select rows by their labels:\n",
    "df.iloc[10:20,[1, 3, 4, 5]]"
   ]
  },
  {
   "cell_type": "code",
   "execution_count": 42,
   "metadata": {},
   "outputs": [
    {
     "data": {
      "text/html": [
       "<div>\n",
       "<style scoped>\n",
       "    .dataframe tbody tr th:only-of-type {\n",
       "        vertical-align: middle;\n",
       "    }\n",
       "\n",
       "    .dataframe tbody tr th {\n",
       "        vertical-align: top;\n",
       "    }\n",
       "\n",
       "    .dataframe thead th {\n",
       "        text-align: right;\n",
       "    }\n",
       "</style>\n",
       "<table border=\"1\" class=\"dataframe\">\n",
       "  <thead>\n",
       "    <tr style=\"text-align: right;\">\n",
       "      <th></th>\n",
       "      <th>custid</th>\n",
       "      <th>sex</th>\n",
       "      <th>employed</th>\n",
       "      <th>income</th>\n",
       "      <th>mstat</th>\n",
       "      <th>hinsurance</th>\n",
       "      <th>htype</th>\n",
       "      <th>recentm</th>\n",
       "      <th>nvehicles</th>\n",
       "      <th>age</th>\n",
       "      <th>stateofres</th>\n",
       "    </tr>\n",
       "  </thead>\n",
       "  <tbody>\n",
       "    <tr>\n",
       "      <th>691</th>\n",
       "      <td>971703</td>\n",
       "      <td>M</td>\n",
       "      <td>False</td>\n",
       "      <td>-8700</td>\n",
       "      <td>Married</td>\n",
       "      <td>True</td>\n",
       "      <td>Homeowner with mortgage/loan</td>\n",
       "      <td>False</td>\n",
       "      <td>3.0</td>\n",
       "      <td>60.0</td>\n",
       "      <td>Oklahoma</td>\n",
       "    </tr>\n",
       "    <tr>\n",
       "      <th>775</th>\n",
       "      <td>1083939</td>\n",
       "      <td>M</td>\n",
       "      <td>NaN</td>\n",
       "      <td>0</td>\n",
       "      <td>Married</td>\n",
       "      <td>True</td>\n",
       "      <td>Homeowner free and clear</td>\n",
       "      <td>False</td>\n",
       "      <td>1.0</td>\n",
       "      <td>73.0</td>\n",
       "      <td>Minnesota</td>\n",
       "    </tr>\n",
       "    <tr>\n",
       "      <th>133</th>\n",
       "      <td>167154</td>\n",
       "      <td>M</td>\n",
       "      <td>NaN</td>\n",
       "      <td>0</td>\n",
       "      <td>Never Married</td>\n",
       "      <td>False</td>\n",
       "      <td>NaN</td>\n",
       "      <td>NaN</td>\n",
       "      <td>NaN</td>\n",
       "      <td>31.0</td>\n",
       "      <td>New Jersey</td>\n",
       "    </tr>\n",
       "    <tr>\n",
       "      <th>283</th>\n",
       "      <td>396116</td>\n",
       "      <td>F</td>\n",
       "      <td>NaN</td>\n",
       "      <td>0</td>\n",
       "      <td>Married</td>\n",
       "      <td>True</td>\n",
       "      <td>Rented</td>\n",
       "      <td>False</td>\n",
       "      <td>2.0</td>\n",
       "      <td>25.0</td>\n",
       "      <td>South Carolina</td>\n",
       "    </tr>\n",
       "    <tr>\n",
       "      <th>713</th>\n",
       "      <td>994628</td>\n",
       "      <td>F</td>\n",
       "      <td>NaN</td>\n",
       "      <td>0</td>\n",
       "      <td>Married</td>\n",
       "      <td>False</td>\n",
       "      <td>Rented</td>\n",
       "      <td>False</td>\n",
       "      <td>2.0</td>\n",
       "      <td>29.0</td>\n",
       "      <td>California</td>\n",
       "    </tr>\n",
       "  </tbody>\n",
       "</table>\n",
       "</div>"
      ],
      "text/plain": [
       "      custid sex employed  income          mstat  hinsurance  \\\n",
       "691   971703   M    False   -8700        Married        True   \n",
       "775  1083939   M      NaN       0        Married        True   \n",
       "133   167154   M      NaN       0  Never Married       False   \n",
       "283   396116   F      NaN       0        Married        True   \n",
       "713   994628   F      NaN       0        Married       False   \n",
       "\n",
       "                            htype recentm  nvehicles   age      stateofres  \n",
       "691  Homeowner with mortgage/loan   False        3.0  60.0        Oklahoma  \n",
       "775      Homeowner free and clear   False        1.0  73.0       Minnesota  \n",
       "133                           NaN     NaN        NaN  31.0      New Jersey  \n",
       "283                        Rented   False        2.0  25.0  South Carolina  \n",
       "713                        Rented   False        2.0  29.0      California  "
      ]
     },
     "execution_count": 42,
     "metadata": {},
     "output_type": "execute_result"
    }
   ],
   "source": [
    "# Create a new data frame from the original sorted by the column Salary\n",
    "df_sorted = df.sort_values(by ='income')\n",
    "df_sorted.head(5)"
   ]
  },
  {
   "cell_type": "markdown",
   "metadata": {},
   "source": [
    "####  sorting  the data using 2 or more columns:"
   ]
  },
  {
   "cell_type": "code",
   "execution_count": 43,
   "metadata": {},
   "outputs": [
    {
     "data": {
      "text/html": [
       "<div>\n",
       "<style scoped>\n",
       "    .dataframe tbody tr th:only-of-type {\n",
       "        vertical-align: middle;\n",
       "    }\n",
       "\n",
       "    .dataframe tbody tr th {\n",
       "        vertical-align: top;\n",
       "    }\n",
       "\n",
       "    .dataframe thead th {\n",
       "        text-align: right;\n",
       "    }\n",
       "</style>\n",
       "<table border=\"1\" class=\"dataframe\">\n",
       "  <thead>\n",
       "    <tr style=\"text-align: right;\">\n",
       "      <th></th>\n",
       "      <th>custid</th>\n",
       "      <th>sex</th>\n",
       "      <th>employed</th>\n",
       "      <th>income</th>\n",
       "      <th>mstat</th>\n",
       "      <th>hinsurance</th>\n",
       "      <th>htype</th>\n",
       "      <th>recentm</th>\n",
       "      <th>nvehicles</th>\n",
       "      <th>age</th>\n",
       "      <th>stateofres</th>\n",
       "    </tr>\n",
       "  </thead>\n",
       "  <tbody>\n",
       "    <tr>\n",
       "      <th>691</th>\n",
       "      <td>971703</td>\n",
       "      <td>M</td>\n",
       "      <td>False</td>\n",
       "      <td>-8700</td>\n",
       "      <td>Married</td>\n",
       "      <td>True</td>\n",
       "      <td>Homeowner with mortgage/loan</td>\n",
       "      <td>False</td>\n",
       "      <td>3.0</td>\n",
       "      <td>60.0</td>\n",
       "      <td>Oklahoma</td>\n",
       "    </tr>\n",
       "    <tr>\n",
       "      <th>148</th>\n",
       "      <td>182072</td>\n",
       "      <td>F</td>\n",
       "      <td>NaN</td>\n",
       "      <td>0</td>\n",
       "      <td>Widowed</td>\n",
       "      <td>False</td>\n",
       "      <td>Rented</td>\n",
       "      <td>False</td>\n",
       "      <td>1.0</td>\n",
       "      <td>45.0</td>\n",
       "      <td>Georgia</td>\n",
       "    </tr>\n",
       "    <tr>\n",
       "      <th>225</th>\n",
       "      <td>314099</td>\n",
       "      <td>F</td>\n",
       "      <td>NaN</td>\n",
       "      <td>0</td>\n",
       "      <td>Widowed</td>\n",
       "      <td>False</td>\n",
       "      <td>Rented</td>\n",
       "      <td>True</td>\n",
       "      <td>2.0</td>\n",
       "      <td>68.0</td>\n",
       "      <td>Pennsylvania</td>\n",
       "    </tr>\n",
       "    <tr>\n",
       "      <th>928</th>\n",
       "      <td>1307013</td>\n",
       "      <td>F</td>\n",
       "      <td>NaN</td>\n",
       "      <td>0</td>\n",
       "      <td>Widowed</td>\n",
       "      <td>False</td>\n",
       "      <td>Rented</td>\n",
       "      <td>False</td>\n",
       "      <td>5.0</td>\n",
       "      <td>55.0</td>\n",
       "      <td>New York</td>\n",
       "    </tr>\n",
       "    <tr>\n",
       "      <th>72</th>\n",
       "      <td>90303</td>\n",
       "      <td>M</td>\n",
       "      <td>NaN</td>\n",
       "      <td>0</td>\n",
       "      <td>Never Married</td>\n",
       "      <td>False</td>\n",
       "      <td>NaN</td>\n",
       "      <td>NaN</td>\n",
       "      <td>NaN</td>\n",
       "      <td>45.0</td>\n",
       "      <td>Kentucky</td>\n",
       "    </tr>\n",
       "    <tr>\n",
       "      <th>96</th>\n",
       "      <td>115100</td>\n",
       "      <td>M</td>\n",
       "      <td>NaN</td>\n",
       "      <td>0</td>\n",
       "      <td>Never Married</td>\n",
       "      <td>False</td>\n",
       "      <td>NaN</td>\n",
       "      <td>NaN</td>\n",
       "      <td>NaN</td>\n",
       "      <td>29.0</td>\n",
       "      <td>California</td>\n",
       "    </tr>\n",
       "    <tr>\n",
       "      <th>123</th>\n",
       "      <td>151678</td>\n",
       "      <td>M</td>\n",
       "      <td>NaN</td>\n",
       "      <td>0</td>\n",
       "      <td>Never Married</td>\n",
       "      <td>False</td>\n",
       "      <td>NaN</td>\n",
       "      <td>NaN</td>\n",
       "      <td>NaN</td>\n",
       "      <td>34.0</td>\n",
       "      <td>Georgia</td>\n",
       "    </tr>\n",
       "    <tr>\n",
       "      <th>131</th>\n",
       "      <td>164576</td>\n",
       "      <td>F</td>\n",
       "      <td>NaN</td>\n",
       "      <td>0</td>\n",
       "      <td>Never Married</td>\n",
       "      <td>False</td>\n",
       "      <td>Rented</td>\n",
       "      <td>False</td>\n",
       "      <td>1.0</td>\n",
       "      <td>28.0</td>\n",
       "      <td>Texas</td>\n",
       "    </tr>\n",
       "    <tr>\n",
       "      <th>133</th>\n",
       "      <td>167154</td>\n",
       "      <td>M</td>\n",
       "      <td>NaN</td>\n",
       "      <td>0</td>\n",
       "      <td>Never Married</td>\n",
       "      <td>False</td>\n",
       "      <td>NaN</td>\n",
       "      <td>NaN</td>\n",
       "      <td>NaN</td>\n",
       "      <td>31.0</td>\n",
       "      <td>New Jersey</td>\n",
       "    </tr>\n",
       "    <tr>\n",
       "      <th>177</th>\n",
       "      <td>220142</td>\n",
       "      <td>F</td>\n",
       "      <td>NaN</td>\n",
       "      <td>0</td>\n",
       "      <td>Never Married</td>\n",
       "      <td>True</td>\n",
       "      <td>NaN</td>\n",
       "      <td>NaN</td>\n",
       "      <td>NaN</td>\n",
       "      <td>18.0</td>\n",
       "      <td>Arkansas</td>\n",
       "    </tr>\n",
       "  </tbody>\n",
       "</table>\n",
       "</div>"
      ],
      "text/plain": [
       "      custid sex employed  income          mstat  hinsurance  \\\n",
       "691   971703   M    False   -8700        Married        True   \n",
       "148   182072   F      NaN       0        Widowed       False   \n",
       "225   314099   F      NaN       0        Widowed       False   \n",
       "928  1307013   F      NaN       0        Widowed       False   \n",
       "72     90303   M      NaN       0  Never Married       False   \n",
       "96    115100   M      NaN       0  Never Married       False   \n",
       "123   151678   M      NaN       0  Never Married       False   \n",
       "131   164576   F      NaN       0  Never Married       False   \n",
       "133   167154   M      NaN       0  Never Married       False   \n",
       "177   220142   F      NaN       0  Never Married        True   \n",
       "\n",
       "                            htype recentm  nvehicles   age    stateofres  \n",
       "691  Homeowner with mortgage/loan   False        3.0  60.0      Oklahoma  \n",
       "148                        Rented   False        1.0  45.0       Georgia  \n",
       "225                        Rented    True        2.0  68.0  Pennsylvania  \n",
       "928                        Rented   False        5.0  55.0      New York  \n",
       "72                            NaN     NaN        NaN  45.0      Kentucky  \n",
       "96                            NaN     NaN        NaN  29.0    California  \n",
       "123                           NaN     NaN        NaN  34.0       Georgia  \n",
       "131                        Rented   False        1.0  28.0         Texas  \n",
       "133                           NaN     NaN        NaN  31.0    New Jersey  \n",
       "177                           NaN     NaN        NaN  18.0      Arkansas  "
      ]
     },
     "execution_count": 43,
     "metadata": {},
     "output_type": "execute_result"
    }
   ],
   "source": [
    "df_sorted = df.sort_values(by = ['income','mstat'],ascending=[True,False])\n",
    "df_sorted.head(10)"
   ]
  },
  {
   "cell_type": "code",
   "execution_count": 44,
   "metadata": {},
   "outputs": [
    {
     "data": {
      "text/html": [
       "<div>\n",
       "<style scoped>\n",
       "    .dataframe tbody tr th:only-of-type {\n",
       "        vertical-align: middle;\n",
       "    }\n",
       "\n",
       "    .dataframe tbody tr th {\n",
       "        vertical-align: top;\n",
       "    }\n",
       "\n",
       "    .dataframe thead th {\n",
       "        text-align: right;\n",
       "    }\n",
       "</style>\n",
       "<table border=\"1\" class=\"dataframe\">\n",
       "  <thead>\n",
       "    <tr style=\"text-align: right;\">\n",
       "      <th></th>\n",
       "      <th>income</th>\n",
       "      <th>age</th>\n",
       "    </tr>\n",
       "  </thead>\n",
       "  <tbody>\n",
       "    <tr>\n",
       "      <th>min</th>\n",
       "      <td>-8700.000</td>\n",
       "      <td>0.000000</td>\n",
       "    </tr>\n",
       "    <tr>\n",
       "      <th>mean</th>\n",
       "      <td>53504.771</td>\n",
       "      <td>51.699815</td>\n",
       "    </tr>\n",
       "    <tr>\n",
       "      <th>max</th>\n",
       "      <td>615000.000</td>\n",
       "      <td>146.680197</td>\n",
       "    </tr>\n",
       "  </tbody>\n",
       "</table>\n",
       "</div>"
      ],
      "text/plain": [
       "          income         age\n",
       "min    -8700.000    0.000000\n",
       "mean   53504.771   51.699815\n",
       "max   615000.000  146.680197"
      ]
     },
     "execution_count": 44,
     "metadata": {},
     "output_type": "execute_result"
    }
   ],
   "source": [
    "df[['income','age']].agg(['min','mean','max'])"
   ]
  },
  {
   "cell_type": "code",
   "execution_count": null,
   "metadata": {},
   "outputs": [],
   "source": []
  }
 ],
 "metadata": {
  "kernelspec": {
   "display_name": "Python 3",
   "language": "python",
   "name": "python3"
  },
  "language_info": {
   "codemirror_mode": {
    "name": "ipython",
    "version": 3
   },
   "file_extension": ".py",
   "mimetype": "text/x-python",
   "name": "python",
   "nbconvert_exporter": "python",
   "pygments_lexer": "ipython3",
   "version": "3.7.1"
  },
  "toc": {
   "base_numbering": 1,
   "nav_menu": {},
   "number_sections": true,
   "sideBar": false,
   "skip_h1_title": true,
   "title_cell": "Table of Contents",
   "title_sidebar": "Contents",
   "toc_cell": false,
   "toc_position": {
    "height": "100px",
    "left": "1138.8px",
    "top": "110.364px",
    "width": "165px"
   },
   "toc_section_display": true,
   "toc_window_display": true
  }
 },
 "nbformat": 4,
 "nbformat_minor": 2
}
